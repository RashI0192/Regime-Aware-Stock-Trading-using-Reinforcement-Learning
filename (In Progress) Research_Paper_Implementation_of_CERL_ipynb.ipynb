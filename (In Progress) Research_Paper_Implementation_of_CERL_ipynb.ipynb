{
  "nbformat": 4,
  "nbformat_minor": 0,
  "metadata": {
    "colab": {
      "provenance": [],
      "gpuType": "T4"
    },
    "kernelspec": {
      "name": "python3",
      "display_name": "Python 3"
    },
    "language_info": {
      "name": "python"
    },
    "accelerator": "GPU"
  },
  "cells": [
    {
      "cell_type": "markdown",
      "source": [
        "*Still in progress – I will continue refining the functions as I gain a deeper understanding of real world trading scenarios described in the research paper->particularly the implications of trade execution and strategy*\n",
        "\n"
      ],
      "metadata": {
        "id": "lGdWfmVEp11w"
      }
    },
    {
      "cell_type": "code",
      "source": [
        "!pip install ray"
      ],
      "metadata": {
        "colab": {
          "base_uri": "https://localhost:8080/"
        },
        "id": "J6iEv-nqqTTL",
        "outputId": "9a39b5f8-0a3f-4e0d-e250-38d00f68281e"
      },
      "execution_count": null,
      "outputs": [
        {
          "output_type": "stream",
          "name": "stdout",
          "text": [
            "Collecting ray\n",
            "  Downloading ray-2.47.1-cp311-cp311-manylinux2014_x86_64.whl.metadata (20 kB)\n",
            "Requirement already satisfied: click>=7.0 in /usr/local/lib/python3.11/dist-packages (from ray) (8.2.1)\n",
            "Requirement already satisfied: filelock in /usr/local/lib/python3.11/dist-packages (from ray) (3.18.0)\n",
            "Requirement already satisfied: jsonschema in /usr/local/lib/python3.11/dist-packages (from ray) (4.24.0)\n",
            "Requirement already satisfied: msgpack<2.0.0,>=1.0.0 in /usr/local/lib/python3.11/dist-packages (from ray) (1.1.1)\n",
            "Requirement already satisfied: packaging in /usr/local/lib/python3.11/dist-packages (from ray) (24.2)\n",
            "Requirement already satisfied: protobuf!=3.19.5,>=3.15.3 in /usr/local/lib/python3.11/dist-packages (from ray) (5.29.5)\n",
            "Requirement already satisfied: pyyaml in /usr/local/lib/python3.11/dist-packages (from ray) (6.0.2)\n",
            "Requirement already satisfied: requests in /usr/local/lib/python3.11/dist-packages (from ray) (2.32.3)\n",
            "Requirement already satisfied: attrs>=22.2.0 in /usr/local/lib/python3.11/dist-packages (from jsonschema->ray) (25.3.0)\n",
            "Requirement already satisfied: jsonschema-specifications>=2023.03.6 in /usr/local/lib/python3.11/dist-packages (from jsonschema->ray) (2025.4.1)\n",
            "Requirement already satisfied: referencing>=0.28.4 in /usr/local/lib/python3.11/dist-packages (from jsonschema->ray) (0.36.2)\n",
            "Requirement already satisfied: rpds-py>=0.7.1 in /usr/local/lib/python3.11/dist-packages (from jsonschema->ray) (0.25.1)\n",
            "Requirement already satisfied: charset-normalizer<4,>=2 in /usr/local/lib/python3.11/dist-packages (from requests->ray) (3.4.2)\n",
            "Requirement already satisfied: idna<4,>=2.5 in /usr/local/lib/python3.11/dist-packages (from requests->ray) (3.10)\n",
            "Requirement already satisfied: urllib3<3,>=1.21.1 in /usr/local/lib/python3.11/dist-packages (from requests->ray) (2.4.0)\n",
            "Requirement already satisfied: certifi>=2017.4.17 in /usr/local/lib/python3.11/dist-packages (from requests->ray) (2025.6.15)\n",
            "Requirement already satisfied: typing-extensions>=4.4.0 in /usr/local/lib/python3.11/dist-packages (from referencing>=0.28.4->jsonschema->ray) (4.14.0)\n",
            "Downloading ray-2.47.1-cp311-cp311-manylinux2014_x86_64.whl (68.9 MB)\n",
            "\u001b[2K   \u001b[90m━━━━━━━━━━━━━━━━━━━━━━━━━━━━━━━━━━━━━━━━\u001b[0m \u001b[32m68.9/68.9 MB\u001b[0m \u001b[31m11.1 MB/s\u001b[0m eta \u001b[36m0:00:00\u001b[0m\n",
            "\u001b[?25hInstalling collected packages: ray\n",
            "Successfully installed ray-2.47.1\n"
          ]
        }
      ]
    },
    {
      "cell_type": "code",
      "source": [
        "!pip install \"ray[rllib]\" lz4\n"
      ],
      "metadata": {
        "colab": {
          "base_uri": "https://localhost:8080/",
          "height": 1000
        },
        "id": "LUKW9OsZq0gs",
        "outputId": "d7ddc800-110c-4509-b2bc-c993447f67fd"
      },
      "execution_count": null,
      "outputs": [
        {
          "output_type": "stream",
          "name": "stdout",
          "text": [
            "Collecting lz4\n",
            "  Downloading lz4-4.4.4-cp311-cp311-manylinux_2_17_x86_64.manylinux2014_x86_64.whl.metadata (3.8 kB)\n",
            "Requirement already satisfied: ray[rllib] in /usr/local/lib/python3.11/dist-packages (2.47.1)\n",
            "Requirement already satisfied: click>=7.0 in /usr/local/lib/python3.11/dist-packages (from ray[rllib]) (8.2.1)\n",
            "Requirement already satisfied: filelock in /usr/local/lib/python3.11/dist-packages (from ray[rllib]) (3.18.0)\n",
            "Requirement already satisfied: jsonschema in /usr/local/lib/python3.11/dist-packages (from ray[rllib]) (4.24.0)\n",
            "Requirement already satisfied: msgpack<2.0.0,>=1.0.0 in /usr/local/lib/python3.11/dist-packages (from ray[rllib]) (1.1.1)\n",
            "Requirement already satisfied: packaging in /usr/local/lib/python3.11/dist-packages (from ray[rllib]) (24.2)\n",
            "Requirement already satisfied: protobuf!=3.19.5,>=3.15.3 in /usr/local/lib/python3.11/dist-packages (from ray[rllib]) (5.29.5)\n",
            "Requirement already satisfied: pyyaml in /usr/local/lib/python3.11/dist-packages (from ray[rllib]) (6.0.2)\n",
            "Requirement already satisfied: requests in /usr/local/lib/python3.11/dist-packages (from ray[rllib]) (2.32.3)\n",
            "Requirement already satisfied: pandas in /usr/local/lib/python3.11/dist-packages (from ray[rllib]) (2.2.2)\n",
            "Collecting tensorboardX>=1.9 (from ray[rllib])\n",
            "  Downloading tensorboardx-2.6.4-py3-none-any.whl.metadata (6.2 kB)\n",
            "Requirement already satisfied: pyarrow>=9.0.0 in /usr/local/lib/python3.11/dist-packages (from ray[rllib]) (18.1.0)\n",
            "Requirement already satisfied: fsspec in /usr/local/lib/python3.11/dist-packages (from ray[rllib]) (2025.3.2)\n",
            "Requirement already satisfied: dm_tree in /usr/local/lib/python3.11/dist-packages (from ray[rllib]) (0.1.9)\n",
            "Collecting gymnasium==1.0.0 (from ray[rllib])\n",
            "  Downloading gymnasium-1.0.0-py3-none-any.whl.metadata (9.5 kB)\n",
            "Collecting ormsgpack==1.7.0 (from ray[rllib])\n",
            "  Downloading ormsgpack-1.7.0-cp311-cp311-manylinux_2_17_x86_64.manylinux2014_x86_64.whl.metadata (43 kB)\n",
            "\u001b[2K     \u001b[90m━━━━━━━━━━━━━━━━━━━━━━━━━━━━━━━━━━━━━━━━\u001b[0m \u001b[32m43.5/43.5 kB\u001b[0m \u001b[31m3.0 MB/s\u001b[0m eta \u001b[36m0:00:00\u001b[0m\n",
            "\u001b[?25hRequirement already satisfied: scipy in /usr/local/lib/python3.11/dist-packages (from ray[rllib]) (1.15.3)\n",
            "Requirement already satisfied: numpy>=1.21.0 in /usr/local/lib/python3.11/dist-packages (from gymnasium==1.0.0->ray[rllib]) (2.0.2)\n",
            "Requirement already satisfied: cloudpickle>=1.2.0 in /usr/local/lib/python3.11/dist-packages (from gymnasium==1.0.0->ray[rllib]) (3.1.1)\n",
            "Requirement already satisfied: typing-extensions>=4.3.0 in /usr/local/lib/python3.11/dist-packages (from gymnasium==1.0.0->ray[rllib]) (4.14.0)\n",
            "Requirement already satisfied: farama-notifications>=0.0.1 in /usr/local/lib/python3.11/dist-packages (from gymnasium==1.0.0->ray[rllib]) (0.0.4)\n",
            "Requirement already satisfied: absl-py>=0.6.1 in /usr/local/lib/python3.11/dist-packages (from dm_tree->ray[rllib]) (1.4.0)\n",
            "Requirement already satisfied: attrs>=18.2.0 in /usr/local/lib/python3.11/dist-packages (from dm_tree->ray[rllib]) (25.3.0)\n",
            "Requirement already satisfied: wrapt>=1.11.2 in /usr/local/lib/python3.11/dist-packages (from dm_tree->ray[rllib]) (1.17.2)\n",
            "Requirement already satisfied: jsonschema-specifications>=2023.03.6 in /usr/local/lib/python3.11/dist-packages (from jsonschema->ray[rllib]) (2025.4.1)\n",
            "Requirement already satisfied: referencing>=0.28.4 in /usr/local/lib/python3.11/dist-packages (from jsonschema->ray[rllib]) (0.36.2)\n",
            "Requirement already satisfied: rpds-py>=0.7.1 in /usr/local/lib/python3.11/dist-packages (from jsonschema->ray[rllib]) (0.25.1)\n",
            "Requirement already satisfied: python-dateutil>=2.8.2 in /usr/local/lib/python3.11/dist-packages (from pandas->ray[rllib]) (2.9.0.post0)\n",
            "Requirement already satisfied: pytz>=2020.1 in /usr/local/lib/python3.11/dist-packages (from pandas->ray[rllib]) (2025.2)\n",
            "Requirement already satisfied: tzdata>=2022.7 in /usr/local/lib/python3.11/dist-packages (from pandas->ray[rllib]) (2025.2)\n",
            "Requirement already satisfied: charset-normalizer<4,>=2 in /usr/local/lib/python3.11/dist-packages (from requests->ray[rllib]) (3.4.2)\n",
            "Requirement already satisfied: idna<4,>=2.5 in /usr/local/lib/python3.11/dist-packages (from requests->ray[rllib]) (3.10)\n",
            "Requirement already satisfied: urllib3<3,>=1.21.1 in /usr/local/lib/python3.11/dist-packages (from requests->ray[rllib]) (2.4.0)\n",
            "Requirement already satisfied: certifi>=2017.4.17 in /usr/local/lib/python3.11/dist-packages (from requests->ray[rllib]) (2025.6.15)\n",
            "Requirement already satisfied: six>=1.5 in /usr/local/lib/python3.11/dist-packages (from python-dateutil>=2.8.2->pandas->ray[rllib]) (1.17.0)\n",
            "Downloading gymnasium-1.0.0-py3-none-any.whl (958 kB)\n",
            "\u001b[2K   \u001b[90m━━━━━━━━━━━━━━━━━━━━━━━━━━━━━━━━━━━━━━━━\u001b[0m \u001b[32m958.1/958.1 kB\u001b[0m \u001b[31m42.5 MB/s\u001b[0m eta \u001b[36m0:00:00\u001b[0m\n",
            "\u001b[?25hDownloading ormsgpack-1.7.0-cp311-cp311-manylinux_2_17_x86_64.manylinux2014_x86_64.whl (220 kB)\n",
            "\u001b[2K   \u001b[90m━━━━━━━━━━━━━━━━━━━━━━━━━━━━━━━━━━━━━━━━\u001b[0m \u001b[32m220.6/220.6 kB\u001b[0m \u001b[31m16.5 MB/s\u001b[0m eta \u001b[36m0:00:00\u001b[0m\n",
            "\u001b[?25hDownloading lz4-4.4.4-cp311-cp311-manylinux_2_17_x86_64.manylinux2014_x86_64.whl (1.3 MB)\n",
            "\u001b[2K   \u001b[90m━━━━━━━━━━━━━━━━━━━━━━━━━━━━━━━━━━━━━━━━\u001b[0m \u001b[32m1.3/1.3 MB\u001b[0m \u001b[31m48.2 MB/s\u001b[0m eta \u001b[36m0:00:00\u001b[0m\n",
            "\u001b[?25hDownloading tensorboardx-2.6.4-py3-none-any.whl (87 kB)\n",
            "\u001b[2K   \u001b[90m━━━━━━━━━━━━━━━━━━━━━━━━━━━━━━━━━━━━━━━━\u001b[0m \u001b[32m87.2/87.2 kB\u001b[0m \u001b[31m7.3 MB/s\u001b[0m eta \u001b[36m0:00:00\u001b[0m\n",
            "\u001b[?25hInstalling collected packages: tensorboardX, ormsgpack, lz4, gymnasium\n",
            "  Attempting uninstall: gymnasium\n",
            "    Found existing installation: gymnasium 1.1.1\n",
            "    Uninstalling gymnasium-1.1.1:\n",
            "      Successfully uninstalled gymnasium-1.1.1\n",
            "Successfully installed gymnasium-1.0.0 lz4-4.4.4 ormsgpack-1.7.0 tensorboardX-2.6.4\n"
          ]
        },
        {
          "output_type": "display_data",
          "data": {
            "application/vnd.colab-display-data+json": {
              "pip_warning": {
                "packages": [
                  "gymnasium"
                ]
              },
              "id": "98fdc5575b7e47ada9dec4365bf6516d"
            }
          },
          "metadata": {}
        }
      ]
    },
    {
      "cell_type": "code",
      "execution_count": null,
      "metadata": {
        "id": "Ni02tlTjptz0"
      },
      "outputs": [],
      "source": [
        "from __future__ import annotations\n",
        "import time, math, random, datetime as dt\n",
        "from dataclasses import dataclass\n",
        "from typing import Dict, List, Tuple, Optional"
      ]
    },
    {
      "cell_type": "code",
      "source": [
        "import ray\n",
        "from ray import tune\n",
        "from ray.rllib.models import ModelCatalog\n",
        "from ray.rllib.algorithms.ppo import PPO\n",
        "from ray.rllib.algorithms.impala import Impala"
      ],
      "metadata": {
        "id": "jujlvPSCqPUA"
      },
      "execution_count": null,
      "outputs": []
    },
    {
      "cell_type": "code",
      "source": [
        "print(ray.__version__)"
      ],
      "metadata": {
        "colab": {
          "base_uri": "https://localhost:8080/"
        },
        "id": "-RSJEdqrvAzQ",
        "outputId": "dd7b0183-7117-410d-adba-f05c1447adf7"
      },
      "execution_count": null,
      "outputs": [
        {
          "output_type": "stream",
          "name": "stdout",
          "text": [
            "2.47.1\n"
          ]
        }
      ]
    },
    {
      "cell_type": "code",
      "source": [
        "import gym\n",
        "from gym import spaces"
      ],
      "metadata": {
        "id": "PBu_gUQjqBc_"
      },
      "execution_count": null,
      "outputs": []
    },
    {
      "cell_type": "code",
      "source": [
        "class SimpleLOBEnv(gym.Env):\n",
        "\n",
        "\n",
        "    def __init__(self, parent_qty: int, episode_minutes: int = 60):\n",
        "        super().__init__()\n",
        "        self.parent_qty = parent_qty\n",
        "        self.ep_steps   = episode_minutes * 60\n",
        "        self.observation_space = spaces.Box(low=-10, high=10, shape=(8,), dtype=float)\n",
        "        self.action_space = spaces.MultiDiscrete([3,\n",
        "                                                  5,\n",
        "                                                  4])\n",
        "\n",
        "        self.reset()\n",
        "\n",
        "    def reset(self):\n",
        "        self.t          = 0\n",
        "        self.qty_left   = self.parent_qty\n",
        "        self.arrival_px = 100.0\n",
        "        self.pnl        = 0.0\n",
        "        return self._obs()\n",
        "\n",
        "    def step(self, action):\n",
        "        skill, px_bucket, size_bucket = action\n",
        "        clip_size   = max(1, int((size_bucket + 1) / 4 * 100))\n",
        "        clip_size   = min(clip_size, self.qty_left)\n",
        "        fill_prob   = {0: 0.3, 1: 0.8, 2: 0.5}[skill]\n",
        "        slippage_bp = {0: -0.5, 1:  +1.5, 2: +0.6}[skill]\n",
        "        shares_filled = 0\n",
        "        if random.random() < fill_prob:\n",
        "            shares_filled = clip_size\n",
        "            self.qty_left -= shares_filled\n",
        "            self.pnl += -(slippage_bp/10000) * shares_filled\n",
        "        self.t += 1\n",
        "        done  = (self.t >= self.ep_steps) or (self.qty_left <= 0)\n",
        "        reward = self.pnl if done else 0.0\n",
        "        return self._obs(), reward, done, {}\n",
        "\n",
        "    def _obs(self):\n",
        "        remaining   = self.qty_left / self.parent_qty\n",
        "        seconds_left= max(0, self.ep_steps - self.t)\n",
        "        return [0,  3_000, 3_200, 0.0, seconds_left, self.qty_left, self.pnl, 0.2]"
      ],
      "metadata": {
        "id": "r8TkbwkkqBZ2"
      },
      "execution_count": null,
      "outputs": []
    },
    {
      "cell_type": "markdown",
      "source": [
        "# bell shaped volume curve..."
      ],
      "metadata": {
        "id": "YpbGm6JWi-y5"
      }
    },
    {
      "cell_type": "code",
      "source": [
        "def vwap_curve(parent_qty: int, minutes: int = 60) -> List[int]:\n",
        "    x = [i / minutes for i in range(minutes+1)]\n",
        "    pdf = [math.exp(-0.5*((x_i-0.5)/0.15)**2) for x_i in x]\n",
        "    cum = [sum(pdf[:i+1]) for i in range(len(pdf))]\n",
        "    cum = [c / cum[-1] for c in cum]\n",
        "    return [int(parent_qty * c) for c in cum]"
      ],
      "metadata": {
        "id": "S1czCYqcqBWO"
      },
      "execution_count": null,
      "outputs": []
    },
    {
      "cell_type": "code",
      "source": [
        "from ray.rllib.models.torch.fcnet import FullyConnectedNetwork\n",
        "ModelCatalog.register_custom_model(\"tiny_mlp\", FullyConnectedNetwork)"
      ],
      "metadata": {
        "id": "wnQhQNJFqBT3"
      },
      "execution_count": null,
      "outputs": []
    },
    {
      "cell_type": "code",
      "source": [
        "SKILL_NAMES = [\"passive\", \"sweep\", \"dark\"]\n",
        "\n",
        "def policy_mapping_fn(agent_id):\n",
        "    return agent_id\n",
        "\n",
        "skill_policies = {name: (None, SimpleLOBEnv(1000).observation_space,\n",
        "                         SimpleLOBEnv(1000).action_space, {})\n",
        "                  for name in SKILL_NAMES}\n"
      ],
      "metadata": {
        "id": "vJZj_HzqqBRi"
      },
      "execution_count": null,
      "outputs": []
    },
    {
      "cell_type": "code",
      "source": [
        "class MetaPolicyEnv(gym.Env):\n",
        "\n",
        "    def __init__(self, parent_qty: int):\n",
        "        super().__init__()\n",
        "        self.inner = SimpleLOBEnv(parent_qty)\n",
        "        self.observation_space = spaces.Box(low=-1, high=1, shape=(3,), dtype=float)\n",
        "        self.action_space      = spaces.Discrete(3)\n",
        "        self.schedule          = vwap_curve(parent_qty)\n",
        "\n",
        "    def reset(self):\n",
        "        self.t = 0\n",
        "        self.cum_filled = 0\n",
        "        return self._obs()\n",
        "\n",
        "    def _obs(self):\n",
        "        target = self.schedule[min(self.t//60, len(self.schedule)-1)]\n",
        "        ahead  = (self.cum_filled - target) / max(1, target)\n",
        "        return [ahead, 0.2, 0.05]\n",
        "\n",
        "    def step(self, action):\n",
        "        \"\"\"Pick a skill, let it act for 5 seconds, aggregate reward (CE later).\"\"\"\n",
        "        skill_idx = int(action)\n",
        "        total_reward = 0.0\n",
        "        done = False\n",
        "        for _ in range(5):\n",
        "            _, r, done, _ = self.inner.step([skill_idx, 2, 2])\n",
        "            total_reward += r\n",
        "            self.cum_filled = self.inner.parent_qty - self.inner.qty_left\n",
        "            if done:\n",
        "                break\n",
        "        self.t += 5\n",
        "        return self._obs(), total_reward, done, {}"
      ],
      "metadata": {
        "id": "qA1WBzYcqBPL"
      },
      "execution_count": null,
      "outputs": []
    },
    {
      "cell_type": "code",
      "source": [
        "def train_skills(num_iters: int = 50):\n",
        "    algo = Impala.Config().environment(SimpleLOBEnv, env_config={\"parent_qty\": 1000}) \\\n",
        "        .multi_agent(policies=skill_policies, policy_mapping_fn=policy_mapping_fn) \\\n",
        "        .framework(\"torch\") \\\n",
        "        .training(model={\"custom_model\": \"tiny_mlp\"}, train_batch_size=2048) \\\n",
        "        .rollouts(num_rollout_workers=4) \\\n",
        "        .build()\n",
        "\n",
        "    for i in range(num_iters):\n",
        "        res = algo.train()\n",
        "        print(f\"Skill iterati on {i:03d}: reward={res['episode_reward_mean']:.4f}\")\n"
      ],
      "metadata": {
        "id": "9pQwDORCsRMc"
      },
      "execution_count": null,
      "outputs": []
    },
    {
      "cell_type": "code",
      "source": [
        "def train_meta(num_iters: int = 50, parent_qty: int = 1000):\n",
        "    algo = PPO.Config().environment(MetaPolicyEnv, env_config={\"parent_qty\": parent_qty}) \\\n",
        "        .framework(\"torch\") \\\n",
        "        .training(model={\"fcnet_hidden\": [64, 64]}) \\\n",
        "        .rollouts(num_rollout_workers=4) \\\n",
        "        .build()\n",
        "\n",
        "    for i in range(num_iters):\n",
        "        res = algo.train()\n",
        "        print(f\"Meta iteration {i:03d}: reward={res['episode_reward_mean']:.4f}\")\n"
      ],
      "metadata": {
        "id": "5yU3zFyasRKW"
      },
      "execution_count": null,
      "outputs": []
    },
    {
      "cell_type": "markdown",
      "source": [
        "## childOder->FIX"
      ],
      "metadata": {
        "id": "35bGHDvRjP6u"
      }
    },
    {
      "cell_type": "code",
      "source": [
        "@dataclass\n",
        "class ChildOrder:\n",
        "    side: str  # buy/sell\n",
        "    qty: int\n",
        "    px: float\n",
        "    tif: int\n",
        "\n",
        "class FIXRouter:\n",
        "    MAX_CLIP = 500\n",
        "\n",
        "    @staticmethod\n",
        "    def send(order: ChildOrder):\n",
        "        if order.qty > FIXRouter.MAX_CLIP:\n",
        "            raise ValueError(\"clip too large – guard‑rail tripped\")\n",
        "        print(f\"[FIX] {order.side.upper()} {order.qty}@{order.px:.2f} tif={order.tif}ms\")"
      ],
      "metadata": {
        "id": "FOequro_sRIA"
      },
      "execution_count": null,
      "outputs": []
    },
    {
      "cell_type": "code",
      "source": [
        "from ray.rllib.algorithms.impala import ImpalaConfig\n",
        "from ray.rllib.algorithms.ppo import PPOConfig\n"
      ],
      "metadata": {
        "id": "CsKIc4fwtGF6"
      },
      "execution_count": null,
      "outputs": []
    }
  ]
}